{
 "cells": [
  {
   "cell_type": "code",
   "execution_count": null,
   "metadata": {},
   "outputs": [],
   "source": [
    "#ASSIGNRMENT_TASK_1"
   ]
  },
  {
   "cell_type": "code",
   "execution_count": 4,
   "metadata": {},
   "outputs": [
    {
     "name": "stdout",
     "output_type": "stream",
     "text": [
      "DIVISON BY ZERO ERROR\n"
     ]
    }
   ],
   "source": [
    "def divide(x, y): \n",
    "    try:  \n",
    "        result = x // y \n",
    "        print(\"Your answer is :\", result) \n",
    "    except ZeroDivisionError: \n",
    "        print(\"DIVISON BY ZERO ERROR\")\n",
    "divide(5, 0) "
   ]
  },
  {
   "cell_type": "code",
   "execution_count": null,
   "metadata": {},
   "outputs": [],
   "source": [
    "#ASSIGNEMENT_TASK_1_2"
   ]
  },
  {
   "cell_type": "code",
   "execution_count": 3,
   "metadata": {},
   "outputs": [
    {
     "name": "stdout",
     "output_type": "stream",
     "text": [
      "Americans play baseball\n",
      "Americans play cricket\n",
      "Americans watch baseball\n",
      "Americans watch cricket\n",
      "Indian play baseball\n",
      "Indian play cricket\n",
      "Indian watch baseball\n",
      "Indian watch cricket\n"
     ]
    }
   ],
   "source": [
    "subjects=[\"Americans\",\"Indian\"]\n",
    "verbs=[\"play\",\"watch\"]\n",
    "objects=[\"baseball\",\"cricket\"]\n",
    "for subject in subjects:\n",
    "    for verb in verbs:\n",
    "        for object in objects:\n",
    "            print(subject+\" \"+verb+\" \"+object)"
   ]
  },
  {
   "cell_type": "code",
   "execution_count": null,
   "metadata": {},
   "outputs": [],
   "source": []
  }
 ],
 "metadata": {
  "kernelspec": {
   "display_name": "Python 3",
   "language": "python",
   "name": "python3"
  },
  "language_info": {
   "codemirror_mode": {
    "name": "ipython",
    "version": 3
   },
   "file_extension": ".py",
   "mimetype": "text/x-python",
   "name": "python",
   "nbconvert_exporter": "python",
   "pygments_lexer": "ipython3",
   "version": "3.7.3"
  }
 },
 "nbformat": 4,
 "nbformat_minor": 2
}
